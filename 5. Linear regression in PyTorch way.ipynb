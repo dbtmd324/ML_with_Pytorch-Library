{
 "cells": [
  {
   "cell_type": "markdown",
   "metadata": {},
   "source": [
    "# 5. Linear Regression in PyTorch Way(파이토치에서의 선형회귀)\n",
    "***"
   ]
  },
  {
   "cell_type": "markdown",
   "metadata": {},
   "source": [
    "## 5.1 Code Practice: PyTorch Rhythm(파이토치 학습 흐름)\n",
    "\n",
    "1. 모델 디자인($Variable$의 class 활용)\n",
    "2. 손실 함수($loss$)와 최적화($optimizer$) 함수 구성: 파이토치 API에서 선택\n",
    "3. 훈련 순환(Training Cycle) 가동: 전파(forward), 역전파(backward), 업데이트(update)"
   ]
  },
  {
   "cell_type": "markdown",
   "metadata": {},
   "source": [
    "### 1. 모델 디자인(PyTorch way)\n",
    "모델 클래스(Model class) 정의"
   ]
  },
  {
   "cell_type": "markdown",
   "metadata": {},
   "source": [
    "#### 1-1. 기본 데이터 정의 및 라이브러리 임포트"
   ]
  },
  {
   "cell_type": "code",
   "execution_count": 1,
   "metadata": {},
   "outputs": [],
   "source": [
    "import torch\n",
    "from torch.autograd import Variable\n",
    "\n",
    "x_data = Variable(torch.Tensor([[1.0], [2.0], [3.0]]))\n",
    "y_data = Variable(torch.Tensor([[2.0], [4.0], [6.0]]))"
   ]
  },
  {
   "cell_type": "markdown",
   "metadata": {},
   "source": [
    "#### 1-2. 모델 클래스(Model class) 정의"
   ]
  },
  {
   "cell_type": "code",
   "execution_count": 2,
   "metadata": {},
   "outputs": [],
   "source": [
    "class Model(torch.nn.Module): # 클래스 정의 \n",
    "    def __init__(self): # initialize the class\n",
    "        \"\"\"\n",
    "        In the constructor we instantiate 2 nn.Linear module\n",
    "        \"\"\"\n",
    "        super(Model, self).__init__() # super the class\n",
    "        self.linear = torch.nn.Linear(1,1) # create components for NN # torch.nn.Linear(,): 파이토치 선형회귀 함수\n",
    "        # In this case, one in and one out \n",
    "\n",
    "    def forward(self, x): # Same as before\n",
    "        \"\"\"\n",
    "        In the forward function we accept a Variable of input data and we must return a Variable of output data. \n",
    "        We can use Modules defined in the constructor as well as arbitrary operators on Variables.\n",
    "        \"\"\"\n",
    "        y_pred = self.linear(x)\n",
    "        return y_pred\n",
    "\n",
    "# make an instant for our model\n",
    "model = Model()"
   ]
  },
  {
   "cell_type": "markdown",
   "metadata": {},
   "source": [
    "### 2. 손실 함수(Loss) 및 최적화 함수(Optimizer) 정의"
   ]
  },
  {
   "cell_type": "code",
   "execution_count": null,
   "metadata": {},
   "outputs": [],
   "source": [
    "\"\"\"\n",
    "Construct our loss function and an Optimizer. The call to model.parameters() in the SGD constructor will contain the learnable parameters of the two nn.Linear modules which are members of the model.\n",
    "\"\"\"\n",
    "criterion = torch.nn.MSELoss(size_average=False) # loss function\n",
    "optimizer = torch.optim.SGD(model.parameters(), lr=0.01) # optimizer"
   ]
  },
  {
   "cell_type": "markdown",
   "metadata": {},
   "source": [
    "### 3. 훈련 순환(Training Cycle) 가동\n",
    "\n",
    "#### Forward, backward, weight update, step"
   ]
  },
  {
   "cell_type": "code",
   "execution_count": null,
   "metadata": {},
   "outputs": [],
   "source": [
    "# Step 3 : Training. Forward, loss, backward, step\n",
    "\n",
    "# Training loop\n",
    "for epoch in range(500):\n",
    "    # Forward pass: Compute predicted y by passing x to the model\n",
    "    y_pred =model(x_data)\n",
    "\n",
    "    # Compute and print loss\n",
    "    loss = criterion(y_pred, y_data)\n",
    "    print(epoch, loss.data)\n",
    "\n",
    "    # Zero gradients, perform a backward pass, and update the weights\n",
    "    optimizer.zero_grad()\n",
    "    loss.backward()\n",
    "    optimizer.step()\n",
    "\n",
    "# After training\n",
    "hour_var = Variable(torch.Tensor([[4.0]]))\n",
    "print(\"predict (after training)\", 4, model.forward(hour_var).data[0][0])"
   ]
  },
  {
   "cell_type": "markdown",
   "metadata": {},
   "source": [
    "## 5.2 Exercise: CIFAR 데이터 학습"
   ]
  },
  {
   "cell_type": "code",
   "execution_count": 23,
   "metadata": {},
   "outputs": [
    {
     "ename": "NameError",
     "evalue": "name 'trainset' is not defined",
     "output_type": "error",
     "traceback": [
      "\u001b[1;31m---------------------------------------------------------------------------\u001b[0m",
      "\u001b[1;31mNameError\u001b[0m                                 Traceback (most recent call last)",
      "\u001b[1;32m<ipython-input-23-0606943a1d3a>\u001b[0m in \u001b[0;36m<module>\u001b[1;34m\u001b[0m\n\u001b[0;32m     34\u001b[0m \u001b[0mLoop\u001b[0m \u001b[0mover\u001b[0m \u001b[0mour\u001b[0m \u001b[0mdata\u001b[0m \u001b[0miterator\u001b[0m\u001b[1;33m,\u001b[0m \u001b[1;32mand\u001b[0m \u001b[0mfeed\u001b[0m \u001b[0mthe\u001b[0m \u001b[0minputs\u001b[0m \u001b[0mto\u001b[0m \u001b[0mthe\u001b[0m \u001b[0mnetwork\u001b[0m \u001b[1;32mand\u001b[0m \u001b[0moptimize\u001b[0m\u001b[1;33m\u001b[0m\u001b[1;33m\u001b[0m\u001b[0m\n\u001b[0;32m     35\u001b[0m '''\n\u001b[1;32m---> 36\u001b[1;33m trainloader = torch.utils.data.DataLoader(trainset, batch_size=4,\n\u001b[0m\u001b[0;32m     37\u001b[0m                                           shuffle=True, num_workers=2)\n\u001b[0;32m     38\u001b[0m \u001b[1;33m\u001b[0m\u001b[0m\n",
      "\u001b[1;31mNameError\u001b[0m: name 'trainset' is not defined"
     ]
    }
   ],
   "source": [
    "# Exercise : CIFAR10 \n",
    "\n",
    "import torch.nn as nn # nn으로 직접 지정\n",
    "import torch.optim as optim\n",
    "\n",
    "# Step 1 : Define a Neural Network\n",
    "class Net(nn.Module):\n",
    "    def __init__(self): # initialize the class\n",
    "        super(Net, self).__init__() # super the class\n",
    "        self.conv1 = nn.Conv2d(3, 6, 5) # create components for NN\n",
    "        self.pool = nn.MaxPool2d(2, 2)\n",
    "        self.conv2 = nn.Conv2d(6, 16, 5)\n",
    "        self.fc1 = nn.Linear(16 * 5 * 5, 120)\n",
    "        self.fc2 = nn.Linear(120, 84)\n",
    "        self.fc3 = nn.Linear(84, 10)\n",
    "\n",
    "    def forward(self, x): \n",
    "        x = self.pool(F.relu(self.conv1(x)))\n",
    "        x = self.pool(F.relu(self.conv2(x)))\n",
    "        x = x.view(-1, 16 * 5 * 5)\n",
    "        x = F.relu(self.fc1(x))\n",
    "        x = F.relu(self.fc2(x))\n",
    "        x = self.fc3(x)\n",
    "        return x\n",
    "\n",
    "net = Net()\n",
    "\n",
    "# Step 2 : Define a Loss function and Optimizer\n",
    "criterion = nn.CrossEntropyLoss() # loss function : Classification Cross-Entropy\n",
    "optimizer = optim.SGD(net.parameters(), lr=0.01, momentum=0.9) # optimizer : SGD with momentum\n",
    "\n",
    "# Step 3 : TRain the network\n",
    "'''\n",
    "Loop over our data iterator, and feed the inputs to the network and optimize\n",
    "'''\n",
    "trainloader = torch.utils.data.DataLoader(trainset, batch_size=4,\n",
    "                                          shuffle=True, num_workers=2)\n",
    "\n",
    "for epoch in range(2): # loop over the dataset multiple times\n",
    "    \n",
    "    running_loss = 0.0\n",
    "    for i, data in enumerate(trainloader, 0):\n",
    "        # get the inputs\n",
    "        inputs, labels = data\n",
    "\n",
    "        # wrap them in Variable\n",
    "        inputs, labels = Variable(inputs), Variable(labels)\n",
    "\n",
    "        # zero the parameter gradients\n",
    "        optimizer.zero_grad()\n",
    "\n",
    "        # forward + backward + optimize\n",
    "        outputs = net(inputs)\n",
    "        loss = criterion(outputs, labels)\n",
    "        loss.backward()\n",
    "        optimizer.step()\n",
    "\n",
    "        # print statistics\n",
    "        running_loss += loss.data[0]\n",
    "        if i % 2000 == 1999: # print every 2000 mini-batches\n",
    "            print('[%d, %5d] loss: %.3f' % (epoch + 1, i + 1, running_loss /2000))\n",
    "            running_loss = 0.0\n",
    "\n",
    "print('Finished Training')"
   ]
  }
 ],
 "metadata": {
  "kernelspec": {
   "display_name": "py37_64",
   "language": "python",
   "name": "py37_64"
  },
  "language_info": {
   "codemirror_mode": {
    "name": "ipython",
    "version": 3
   },
   "file_extension": ".py",
   "mimetype": "text/x-python",
   "name": "python",
   "nbconvert_exporter": "python",
   "pygments_lexer": "ipython3",
   "version": "3.7.9"
  }
 },
 "nbformat": 4,
 "nbformat_minor": 2
}
