{
 "cells": [
  {
   "cell_type": "markdown",
   "metadata": {},
   "source": [
    "# 1. ML Overview"
   ]
  },
  {
   "cell_type": "markdown",
   "metadata": {},
   "source": [
    "## 1.1. What is Machine Learning? \n",
    "\n",
    " ![1_머신러닝](slides/이미지/1_머신러닝.jpg)\n",
    "- Machine Learning(ML): Field of study that gives computers the ability to learn without being explicitly programmed.\n",
    "- 데이터를 학습해서 스스로 작동하는 프로그램\n",
    "- Machine needs lots of training and ML predicts (test) with trained model.\n",
    "\n",
    "## 1.2. What is Learning? \n",
    "\n",
    "### 1.2.1. Supervised Learning(지도 학습)\n",
    "- Learning with labeled examples\n",
    "- Learning needs training set with $x$label and $y$label\n",
    "- 이미 정해진 label을 학습하는 형식\n",
    "- Ex: Image labeling, Email spam filter and Predicting exam score\n",
    "- Types of supervised Learning: Regression(회귀분석), Binary classification(이산분류), Multi-label classification \n",
    "\n",
    "### 1.2.2. Unsupervised Learning(비지도 학습)\n",
    "- Learning with unlabeled examples\n",
    "- Learning with training set with xlabel only\n",
    "- 실전에서 우리가 일일이 모든 label을 정해줄 수 없음\n",
    "- Ex: Google news grouping, Word clustering \n",
    "\n",
    "## 1.3. Why PYTORCH?\n",
    "- More Pythonic(Imperative): Flexible, intuitive, cleaner code and easy to debug\n",
    "- More Neural Networkic: Write code as the network works, forwad/backward "
   ]
  }
 ],
 "metadata": {
  "kernelspec": {
   "display_name": "py37_64",
   "language": "python",
   "name": "py37_64"
  },
  "language_info": {
   "codemirror_mode": {
    "name": "ipython",
    "version": 3
   },
   "file_extension": ".py",
   "mimetype": "text/x-python",
   "name": "python",
   "nbconvert_exporter": "python",
   "pygments_lexer": "ipython3",
   "version": "3.7.9"
  }
 },
 "nbformat": 4,
 "nbformat_minor": 2
}
